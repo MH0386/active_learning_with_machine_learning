{
 "cells": [
  {
   "cell_type": "code",
   "execution_count": 1,
   "metadata": {
    "ExecuteTime": {
     "end_time": "2024-03-27T20:36:53.125884Z",
     "start_time": "2024-03-27T20:36:53.122669Z"
    },
    "execution": {
     "iopub.execute_input": "2024-03-26T22:14:21.464717Z",
     "iopub.status.busy": "2024-03-26T22:14:21.464195Z",
     "iopub.status.idle": "2024-03-26T22:14:36.457354Z",
     "shell.execute_reply": "2024-03-26T22:14:36.456079Z",
     "shell.execute_reply.started": "2024-03-26T22:14:21.464669Z"
    },
    "trusted": true
   },
   "outputs": [],
   "source": [
    "# %pip install -U scikit-activeml gradio -q"
   ]
  },
  {
   "cell_type": "code",
   "execution_count": 2,
   "metadata": {
    "ExecuteTime": {
     "end_time": "2024-03-27T20:36:53.143987Z",
     "start_time": "2024-03-27T20:36:53.139518Z"
    },
    "_cell_guid": "b1076dfc-b9ad-4769-8c92-a6c4dae69d19",
    "_uuid": "8f2839f25d086af736a60e9eeb907d3b93b6e0e5",
    "execution": {
     "iopub.execute_input": "2024-03-26T22:14:36.460108Z",
     "iopub.status.busy": "2024-03-26T22:14:36.459742Z",
     "iopub.status.idle": "2024-03-26T22:14:36.468605Z",
     "shell.execute_reply": "2024-03-26T22:14:36.467328Z",
     "shell.execute_reply.started": "2024-03-26T22:14:36.460076Z"
    },
    "trusted": true
   },
   "outputs": [],
   "source": [
    "import warnings\n",
    "\n",
    "import gradio\n",
    "import numpy as np\n",
    "import pandas as pd\n",
    "import plotly.graph_objects as go\n",
    "from plotly.subplots import make_subplots\n",
    "from skactiveml.classifier import SklearnClassifier\n",
    "from skactiveml.pool import QueryByCommittee, RandomSampling, UncertaintySampling\n",
    "from skactiveml.utils import MISSING_LABEL\n",
    "from sklearn.datasets import load_digits, load_iris\n",
    "from sklearn.ensemble import RandomForestClassifier\n",
    "from sklearn.metrics import f1_score\n",
    "\n",
    "warnings.filterwarnings(\"ignore\")"
   ]
  },
  {
   "cell_type": "markdown",
   "metadata": {},
   "source": [
    "# Load datasets"
   ]
  },
  {
   "cell_type": "code",
   "execution_count": 3,
   "metadata": {
    "ExecuteTime": {
     "end_time": "2024-03-27T20:36:53.190461Z",
     "start_time": "2024-03-27T20:36:53.176051Z"
    },
    "execution": {
     "iopub.execute_input": "2024-03-26T19:59:28.429477Z",
     "iopub.status.busy": "2024-03-26T19:59:28.429053Z",
     "iopub.status.idle": "2024-03-26T19:59:28.465714Z",
     "shell.execute_reply": "2024-03-26T19:59:28.464520Z",
     "shell.execute_reply.started": "2024-03-26T19:59:28.429415Z"
    },
    "trusted": true
   },
   "outputs": [],
   "source": [
    "iris = load_iris()\n",
    "digits = load_digits()"
   ]
  },
  {
   "cell_type": "markdown",
   "metadata": {},
   "source": [
    "# Model Before Active Learning"
   ]
  },
  {
   "cell_type": "code",
   "execution_count": 4,
   "metadata": {},
   "outputs": [],
   "source": [
    "Model_before_active_learning = RandomForestClassifier(n_estimators=2, random_state=42)"
   ]
  },
  {
   "cell_type": "markdown",
   "metadata": {},
   "source": [
    "## Iris"
   ]
  },
  {
   "cell_type": "code",
   "execution_count": 5,
   "metadata": {},
   "outputs": [
    {
     "data": {
      "text/plain": [
       "(0.9866666666666667, 0.9866666666666668)"
      ]
     },
     "execution_count": 5,
     "metadata": {},
     "output_type": "execute_result"
    }
   ],
   "source": [
    "Model_before_active_learning.fit(iris.data, iris.target)\n",
    "Model_before_active_learning.score(iris.data, iris.target), f1_score(iris.target, Model_before_active_learning.predict(iris.data), average=\"micro\")"
   ]
  },
  {
   "cell_type": "markdown",
   "metadata": {},
   "source": [
    "## Digits"
   ]
  },
  {
   "cell_type": "code",
   "execution_count": 6,
   "metadata": {},
   "outputs": [
    {
     "data": {
      "text/plain": [
       "(0.9376739009460211, 0.9376739009460211)"
      ]
     },
     "execution_count": 6,
     "metadata": {},
     "output_type": "execute_result"
    }
   ],
   "source": [
    "Model_before_active_learning.fit(digits.data, digits.target)\n",
    "Model_before_active_learning.score(digits.data, digits.target), f1_score(digits.target, Model_before_active_learning.predict(digits.data), average=\"micro\")"
   ]
  },
  {
   "cell_type": "markdown",
   "metadata": {},
   "source": [
    "# Model After Active Learning"
   ]
  },
  {
   "cell_type": "markdown",
   "metadata": {},
   "source": [
    "## Active Learning Function"
   ]
  },
  {
   "cell_type": "code",
   "execution_count": 7,
   "metadata": {
    "ExecuteTime": {
     "end_time": "2024-03-27T20:36:53.200339Z",
     "start_time": "2024-03-27T20:36:53.193893Z"
    },
    "execution": {
     "iopub.execute_input": "2024-03-26T19:59:28.481752Z",
     "iopub.status.busy": "2024-03-26T19:59:28.481269Z",
     "iopub.status.idle": "2024-03-26T19:59:28.496122Z",
     "shell.execute_reply": "2024-03-26T19:59:28.494995Z",
     "shell.execute_reply.started": "2024-03-26T19:59:28.481715Z"
    },
    "trusted": true
   },
   "outputs": [],
   "source": [
    "def evaluate_active_learning(dataset, dataset_name, method):\n",
    "    X, y_true = dataset\n",
    "    n_cycles = 100\n",
    "    accuracies = []\n",
    "    f1_scores = []\n",
    "    qs = None\n",
    "\n",
    "    print(f\"X shape: {X.shape}, y_true shape: {y_true.shape}\")\n",
    "    print(f\"Evaluating dataset: {dataset_name} with method: {method}\")\n",
    "    global random_forest\n",
    "    random_forest = SklearnClassifier(\n",
    "        RandomForestClassifier(), classes=np.unique(y_true)\n",
    "    )\n",
    "    if method == 0:\n",
    "        qs = RandomSampling(random_state=42)\n",
    "    elif method == 1:\n",
    "        qs = QueryByCommittee(random_state=42, method=\"KL_divergence\")\n",
    "    elif method == 2:\n",
    "        qs = UncertaintySampling(method=\"least_confident\", random_state=42)\n",
    "    elif method == 3:\n",
    "        qs = UncertaintySampling(method=\"margin_sampling\", random_state=42)\n",
    "    elif method == 4:\n",
    "        qs = UncertaintySampling(method=\"entropy\", random_state=42)\n",
    "    y = np.full(shape=y_true.shape, fill_value=MISSING_LABEL)\n",
    "    random_forest.fit(X, y)\n",
    "    y_hat = random_forest.predict(X)\n",
    "    for _ in range(n_cycles):\n",
    "        if method == 0:\n",
    "            query_idx = qs.query(X=X, y=y, batch_size=1)\n",
    "        elif method == 1:\n",
    "            query_idx = qs.query(X=X, y=y, ensemble=random_forest, batch_size=1)\n",
    "        else:\n",
    "            query_idx = qs.query(X=X, y=y, clf=random_forest, batch_size=1)\n",
    "        y[query_idx] = y_true[query_idx]\n",
    "        random_forest.fit(X, y)\n",
    "        y_hat = random_forest.predict(X)\n",
    "        accuracy = random_forest.score(X, y_true)\n",
    "        f1 = f1_score(y_true, y_hat, average=\"micro\")\n",
    "        f1_scores.append(f1)\n",
    "        accuracies.append(accuracy)\n",
    "    return accuracies, n_cycles, f1_scores, random_forest"
   ]
  },
  {
   "cell_type": "markdown",
   "metadata": {},
   "source": [
    "## Predict Function to be used at \"Try Model\" Page in GUI"
   ]
  },
  {
   "cell_type": "code",
   "execution_count": 8,
   "metadata": {
    "ExecuteTime": {
     "end_time": "2024-03-27T20:36:53.224048Z",
     "start_time": "2024-03-27T20:36:53.220530Z"
    }
   },
   "outputs": [],
   "source": [
    "def model_predict(prompt):\n",
    "    return str(random_forest.predict(prompt))"
   ]
  },
  {
   "cell_type": "markdown",
   "metadata": {},
   "source": [
    "## Plotting Function to be used at \"Active Learning\" Page in GUI"
   ]
  },
  {
   "cell_type": "code",
   "execution_count": 9,
   "metadata": {
    "ExecuteTime": {
     "end_time": "2024-03-27T20:36:53.257564Z",
     "start_time": "2024-03-27T20:36:53.251221Z"
    }
   },
   "outputs": [],
   "source": [
    "def get_plot(methods, dataset_name):\n",
    "    print(methods, dataset_name)\n",
    "    dataset = {\"Iris\": [iris.data, iris.target], \"Digits\": [digits.data, digits.target]}\n",
    "    df1s = []\n",
    "    df2s = []\n",
    "    for method in methods:\n",
    "        if method == \"Random Sampling\":\n",
    "            method = 0\n",
    "        elif method == \"Query By Committee\":\n",
    "            method = 1\n",
    "        elif method == \"Uncertainty Sampling with Least Confident\":\n",
    "            method = 2\n",
    "        elif method == \"Uncertainty Sampling with Margin Sampling\":\n",
    "            method = 3\n",
    "        elif method == \"Uncertainty Sampling with Entropy\":\n",
    "            method = 4\n",
    "        accuracies, n, f1, _ = evaluate_active_learning(\n",
    "            dataset[dataset_name], dataset_name, method\n",
    "        )\n",
    "        df1 = pd.DataFrame({\"x\": range(1, n + 1), \"y\": accuracies})\n",
    "        df2 = pd.DataFrame({\"x\": range(1, n + 1), \"y\": f1})\n",
    "        df1s.append(df1)\n",
    "        df2s.append(df2)\n",
    "    fig1 = make_subplots(\n",
    "        rows=1,\n",
    "        cols=2,\n",
    "    )\n",
    "    fig2 = make_subplots(\n",
    "        rows=1,\n",
    "        cols=2,\n",
    "    )\n",
    "    for df1 in df1s:\n",
    "        fig1.add_trace(go.Scatter(x=df1[\"x\"], y=df1[\"y\"], mode=\"lines\"), row=1, col=1)\n",
    "    for df2 in df2s:\n",
    "        fig2.add_trace(go.Scatter(x=df2[\"x\"], y=df2[\"y\"], mode=\"lines\"), row=1, col=1)\n",
    "    fig1.update_layout(title_text=\"Accuracy\")\n",
    "    fig2.update_layout(title_text=\"F1 Score\")\n",
    "    fig = make_subplots(rows=1, cols=2, shared_yaxes=True)\n",
    "    for trace in fig1[\"data\"]:\n",
    "        fig.add_trace(trace, row=1, col=1)\n",
    "    for trace in fig2[\"data\"]:\n",
    "        fig.add_trace(trace, row=1, col=2)\n",
    "    fig.update_layout(title_text=\"Accuracy vs F1 Score\")\n",
    "    fig.update_xaxes(title_text=\"Iterations\")\n",
    "    fig.update_yaxes(title_text=\"Accuracy\", row=1, col=1)\n",
    "    fig.update_yaxes(title_text=\"F1 Score\", row=1, col=2)\n",
    "    fig.update_layout(height=500, width=500)\n",
    "    return fig"
   ]
  },
  {
   "cell_type": "markdown",
   "metadata": {},
   "source": [
    "## \"Try Model\" Page in GUI"
   ]
  },
  {
   "cell_type": "code",
   "execution_count": 10,
   "metadata": {},
   "outputs": [],
   "source": [
    "try_model = gradio.Interface(\n",
    "    fn=model_predict,\n",
    "    inputs=gradio.inputs.Dataframe(\n",
    "        type=\"numpy\",\n",
    "        row_count=1,\n",
    "        col_count=4,\n",
    "        headers=[\"sepal length\", \"sepal width\", \"petal length\", \"petal width\"],\n",
    "    ),\n",
    "    outputs=\"text\",\n",
    "    title=\"Active Learning with Random Forest\",\n",
    "    description=\"This app apply active learning using a Random Forest classifier.\",\n",
    ")"
   ]
  },
  {
   "cell_type": "markdown",
   "metadata": {},
   "source": [
    "## \"Active Learning\" Page in GUI"
   ]
  },
  {
   "cell_type": "code",
   "execution_count": 11,
   "metadata": {},
   "outputs": [],
   "source": [
    "with gradio.Blocks() as main:\n",
    "    with gradio.Row():\n",
    "        with gradio.Column():\n",
    "            methods = gradio.CheckboxGroup(\n",
    "                [\n",
    "                    \"Random Sampling\",\n",
    "                    \"Query By Committee\",\n",
    "                    \"Uncertainty Sampling with Least Confident\",\n",
    "                    \"Uncertainty Sampling with Margin Sampling\",\n",
    "                    \"Uncertainty Sampling with Entropy\",\n",
    "                ],\n",
    "                label=\"Select Active Learning Method\",\n",
    "            )\n",
    "            dataset = gradio.Radio([\"Iris\", \"Digits\"], label=\"Select Dataset\")\n",
    "            with gradio.Row():\n",
    "                with gradio.Column():\n",
    "                    output = gradio.Plot(\n",
    "                        x=\"x\",\n",
    "                        y=\"y\",\n",
    "                        overlay_point=True,\n",
    "                        tooltip=[\"x\", \"y\"],\n",
    "                        y_title=\"Accuracy\",\n",
    "                        x_title=\"Iterations\",\n",
    "                    )\n",
    "                    submit = gradio.Button()\n",
    "    submit.click(get_plot, [methods, dataset], output)"
   ]
  },
  {
   "cell_type": "markdown",
   "metadata": {},
   "source": [
    "## GUI"
   ]
  },
  {
   "cell_type": "code",
   "execution_count": 12,
   "metadata": {},
   "outputs": [
    {
     "name": "stdout",
     "output_type": "stream",
     "text": [
      "Running on local URL:  http://127.0.0.1:7860\n",
      "\n",
      "To create a public link, set `share=True` in `launch()`.\n"
     ]
    },
    {
     "data": {
      "text/html": [
       "<div><iframe src=\"http://127.0.0.1:7860/\" width=\"100%\" height=\"500\" allow=\"autoplay; camera; microphone; clipboard-read; clipboard-write;\" frameborder=\"0\" allowfullscreen></iframe></div>"
      ],
      "text/plain": [
       "<IPython.core.display.HTML object>"
      ]
     },
     "metadata": {},
     "output_type": "display_data"
    },
    {
     "data": {
      "text/plain": []
     },
     "execution_count": 12,
     "metadata": {},
     "output_type": "execute_result"
    }
   ],
   "source": [
    "gradio.TabbedInterface([main, try_model], [\"Active Learning\", \"Try Model\"]).launch()"
   ]
  }
 ],
 "metadata": {
  "kaggle": {
   "accelerator": "none",
   "dataSources": [],
   "dockerImageVersionId": 30673,
   "isGpuEnabled": false,
   "isInternetEnabled": true,
   "language": "python",
   "sourceType": "notebook"
  },
  "kernelspec": {
   "display_name": "Python 3",
   "language": "python",
   "name": "python3"
  },
  "language_info": {
   "codemirror_mode": {
    "name": "ipython",
    "version": 3
   },
   "file_extension": ".py",
   "mimetype": "text/x-python",
   "name": "python",
   "nbconvert_exporter": "python",
   "pygments_lexer": "ipython3",
   "version": "3.11.5"
  }
 },
 "nbformat": 4,
 "nbformat_minor": 4
}
